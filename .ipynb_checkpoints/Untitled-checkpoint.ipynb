{
 "cells": [
  {
   "cell_type": "code",
   "execution_count": 14,
   "id": "c8c7e2db",
   "metadata": {},
   "outputs": [],
   "source": [
    "import numpy as np\n",
    "import random \n",
    "\n",
    "\n",
    "\n",
    "\n",
    "#Model is an array with people, status, and days since infected\n",
    "n = 100000 #100,000 people\n",
    "model = np.zeros((n, 2))\n",
    "\n",
    "#Going to make a test case here\n",
    "for i in range(100000):\n",
    "    num = random.randint(1,100000)\n",
    "    if num <= 100:\n",
    "        model[i][0] = 2\n",
    "        model[i][1] = 0\n",
    "    else:\n",
    "        model[i][0] = 0\n",
    "        model[i][1] = float(\"inf\")\n",
    "\n",
    "\n",
    "\n",
    "room =range(100000) #person indices\n",
    "#from this we can get number of index cases in the room, breathe and talk rates, and viral load (since each person will be mapped to a viral load)\n",
    "#all other variables are calculated externally \n",
    "nindex_room = len([num for num in room if model[num][0] == 2])\n",
    "\n",
    "\n",
    "\n",
    "def room_pinf(ibinmax,kdecay,lowbreathe,maskfac_out,maskfac_in,\n",
    "              roomvolx,achx,tendx,talkfractionx,vdotbreathex,\n",
    "              vemtalk,vembreathe,kdep,fdep,\n",
    "              nindex_room,nemmx_talk,nemmx_breathe,vinfx):\n",
    "\n",
    "    # THIS ROUTINE CALCULATE THE PROBABILITY OF INFECTION IN A ROOM ASSUMING WELL-MIXED CONDITIONS AND FAR FIELD TRANSMISSION ONLY\n",
    "\n",
    "    # NOTE\n",
    "    # ibinmax,kdecay,lowbreathe,maskfac_out,maskfac_in are scalars that do not change from room to room\n",
    "    # roomvolx,achx,tendx,talkfractionx,vdotbreathex are scalars that change from room to room \n",
    "    # vemtalk,vembreathe,kdep,fdep have dimension ibinmax and do no change from room to room\n",
    "    # nemmx_talk,nemmx_breathe,vinfx have dimension nindex_room and change from room to room\n",
    "\n",
    "    rnaconc = np.zeros((ibinmax,nindex_room))\n",
    "    #nindex_room is the number of index cases in the room\n",
    "    #can fill this value at room assignment\n",
    "\n",
    "    dose = 0.0\n",
    "\n",
    "    for ibin in range(ibinmax):\n",
    "        # Aerosol volume emission rate in each bin (mL/s)\n",
    "        # nemmx_talk and nemmx_breathe are for lowbreathe  - scale by actual breathing\n",
    "        vaerosol = talkfractionx * (nemmx_talk * vdotbreathex/lowbreathe) * vemtalk[ibin] + (1.0 - talkfractionx) * (nemmx_breathe * vdotbreathex/lowbreathe) * vembreathe[ibin] \n",
    "        #talk fraction comes from uniform -> can be assigned ahead of time\n",
    "        #\n",
    "        # Loss coefficient (1/s)\n",
    "        kloss = (kdecay + kdep[ibin] + achx)/3600.0 \n",
    "\n",
    "        # CONCENTRATION IN WELL-MIXED CASE\n",
    "        rnaconc[ibin,:] = ((1.0 - maskfac_out)*vinfx[:]*vaerosol)/(kloss*roomvolx) * (1.0 - (1 - np.exp(-kloss * tendx))/(kloss * tendx))\n",
    "\n",
    "    # CALCULATE TOTAL RNA CONCENTRATION IN EACH BIN FROM ALL INDEX CASES IN ROOM\n",
    "    totrnaconc = np.sum(rnaconc, axis=1)\n",
    "\n",
    "    # CALCULATE DOSE FOR WELL MIXED CASE)\n",
    "    for ibin in range(ibinmax):\n",
    "        # DOSE FOR SUSCEPTIBLE IN WELL-MIXED CASE\n",
    "        dose = dose + (1-maskfac_in)*fdep[ibin]*totrnaconc[ibin] * vdotbreathex * tendx\n",
    "\n",
    "    # INFECTION PROBABILITY FOR SUSCEPTIBLE IN WELL MIXED CASE\n",
    "    pinfx = 1.0 - np.exp(-dose/id50)\n",
    "\n",
    "    return pinfx"
   ]
  },
  {
   "cell_type": "code",
   "execution_count": 15,
   "id": "e6817fef",
   "metadata": {},
   "outputs": [
    {
     "data": {
      "text/plain": [
       "0"
      ]
     },
     "execution_count": 15,
     "metadata": {},
     "output_type": "execute_result"
    }
   ],
   "source": [
    "nindex_room"
   ]
  },
  {
   "cell_type": "code",
   "execution_count": 7,
   "id": "203ed095",
   "metadata": {},
   "outputs": [
    {
     "data": {
      "text/plain": [
       "2"
      ]
     },
     "execution_count": 7,
     "metadata": {},
     "output_type": "execute_result"
    }
   ],
   "source": []
  },
  {
   "cell_type": "code",
   "execution_count": null,
   "id": "2a823724",
   "metadata": {},
   "outputs": [],
   "source": []
  }
 ],
 "metadata": {
  "kernelspec": {
   "display_name": "Python 3 (ipykernel)",
   "language": "python",
   "name": "python3"
  },
  "language_info": {
   "codemirror_mode": {
    "name": "ipython",
    "version": 3
   },
   "file_extension": ".py",
   "mimetype": "text/x-python",
   "name": "python",
   "nbconvert_exporter": "python",
   "pygments_lexer": "ipython3",
   "version": "3.9.12"
  }
 },
 "nbformat": 4,
 "nbformat_minor": 5
}
